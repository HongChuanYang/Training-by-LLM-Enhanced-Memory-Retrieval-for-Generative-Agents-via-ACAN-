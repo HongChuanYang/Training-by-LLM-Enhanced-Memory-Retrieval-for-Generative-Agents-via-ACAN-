{
 "cells": [
  {
   "cell_type": "code",
   "execution_count": 1,
   "metadata": {},
   "outputs": [],
   "source": [
    "# import\n",
    "import os\n",
    "import json"
   ]
  },
  {
   "cell_type": "code",
   "execution_count": 2,
   "metadata": {},
   "outputs": [],
   "source": [
    "mem_base_path = '..\\\\memory\\\\agent_memory'"
   ]
  },
  {
   "cell_type": "code",
   "execution_count": 3,
   "metadata": {},
   "outputs": [],
   "source": [
    "# 期待的数据处理格式{'name':'example', 'query': 'example', 'memory': ['example1', example2]}\n",
    "processed_data = []\n",
    "for agent_name in os.listdir(mem_base_path):\n",
    "    agent_dir = os.path.join(mem_base_path, agent_name)\n",
    "    if os.path.isdir(agent_dir):  # 确保是一个目录\n",
    "        # 构建 query_with_mem.json 文件的完整路径\n",
    "        query_with_mem_path = os.path.join(agent_dir, \"query_with_mem.json\")\n",
    "        nodes_path = os.path.join(agent_dir, \"nodes.json\")\n",
    "        # single_data['query']\n",
    "        if os.path.exists(query_with_mem_path) and os.path.exists(nodes_path):  # 确保文件存在\n",
    "            # 打开并加载 JSON 文件\n",
    "            with open(query_with_mem_path, 'r') as file:\n",
    "                data = json.load(file)\n",
    "                for _ in data:\n",
    "                    single_data = {}\n",
    "                    single_data['name'] = agent_name\n",
    "                    single_data['query'] = _['query']\n",
    "                    single_data['action'] = _['action']\n",
    "                    single_data['action_type'] = _['action_type']\n",
    "                    single_data['prompt'] = _['prompt']\n",
    "                    single_data['base_memory'] = _['base_memory']\n",
    "                    with open(nodes_path, \"r\") as infile:\n",
    "                        nodes_data = json.load(infile)\n",
    "                        mem_list = []\n",
    "                        detail_mem_list = []\n",
    "                        for i in _['memory_state']:\n",
    "                            mem_list.append(nodes_data[i]['description'])\n",
    "                            detail_mem_list.append(f\"{nodes_data[i]['type']} memory about {nodes_data[i]['object']} : {nodes_data[i]['description']} in {nodes_data[i]['location']} at day:{nodes_data[i]['created_day']}{nodes_data[i]['created']};\\n \")\n",
    "\n",
    "                    single_data['memory'] = mem_list\n",
    "                    single_data['detail_mem'] = detail_mem_list\n",
    "                    # single_data['id'] = len(processed_data)\n",
    "                    processed_data.append(single_data)"
   ]
  },
  {
   "cell_type": "code",
   "execution_count": 4,
   "metadata": {},
   "outputs": [],
   "source": [
    "# # 复制,用于测试\n",
    "# d_processed_data = processed_data*100\n",
    "# d_processed_data = [{**item, 'id': i} for i, item in enumerate(d_processed_data)]\n",
    "# with open('dataset\\\\processed_data.json', 'w') as f:\n",
    "#     # json.dump(processed_data, f)\n",
    "#     json.dump(d_processed_data, f)\n",
    "\n"
   ]
  },
  {
   "cell_type": "code",
   "execution_count": 4,
   "metadata": {},
   "outputs": [],
   "source": [
    "processed_data = [{**item, 'id': i} for i, item in enumerate(processed_data)]"
   ]
  },
  {
   "cell_type": "code",
   "execution_count": 5,
   "metadata": {},
   "outputs": [],
   "source": [
    "with open('dataset\\\\processed_data.json', 'w') as f:\n",
    "    # json.dump(processed_data, f)\n",
    "    json.dump(processed_data, f)\n",
    "    \n"
   ]
  },
  {
   "cell_type": "code",
   "execution_count": 3,
   "metadata": {},
   "outputs": [],
   "source": [
    "with open(\"dataset\\\\processed_data.json\", 'r') as f:\n",
    "    test_processed_data = json.load(f)"
   ]
  },
  {
   "cell_type": "code",
   "execution_count": 6,
   "metadata": {},
   "outputs": [],
   "source": [
    "all_embeddings = {'': [0.0] * 1536}\n",
    "# 遍历 base_path 下的所有文件夹\n",
    "for agent_name in os.listdir(mem_base_path):\n",
    "    agent_dir = os.path.join(mem_base_path, agent_name)\n",
    "    # 确定文件夹路径是否正确\n",
    "    if os.path.isdir(agent_dir):\n",
    "        embeddings_path = os.path.join(agent_dir, \"embeddings.json\")\n",
    "        # 确保 embeddings.json 文件存在\n",
    "        if os.path.exists(embeddings_path):\n",
    "            with open(embeddings_path, 'r') as file:\n",
    "                embeddings = json.load(file)\n",
    "                # 合并当前agent的embeddings到总的字典中\n",
    "                all_embeddings.update(embeddings)\n",
    "                \n"
   ]
  },
  {
   "cell_type": "code",
   "execution_count": 7,
   "metadata": {},
   "outputs": [],
   "source": [
    "with open('dataset\\\\all_embeddings.json', 'w') as file:\n",
    "    json.dump(all_embeddings, file)"
   ]
  },
  {
   "cell_type": "code",
   "execution_count": 10,
   "metadata": {},
   "outputs": [],
   "source": [
    "# test get embedding\n",
    "agent_dir = os.path.join(mem_base_path, single_data['name'])\n",
    "embeddings_path = os.path.join(agent_dir, \"embeddings.json\")\n",
    "embeddings = json.load(open(embeddings_path))\n",
    "embeddings[single_data['memory'][0]]\n"
   ]
  },
  {
   "cell_type": "code",
   "execution_count": 1,
   "metadata": {},
   "outputs": [
    {
     "name": "stdout",
     "output_type": "stream",
     "text": [
      "True\n",
      "NVIDIA GeForce RTX 4060 Laptop GPU\n"
     ]
    },
    {
     "ename": "",
     "evalue": "",
     "output_type": "error",
     "traceback": [
      "\u001b[1;31mThe Kernel crashed while executing code in the current cell or a previous cell. \n",
      "\u001b[1;31mPlease review the code in the cell(s) to identify a possible cause of the failure. \n",
      "\u001b[1;31mClick <a href='https://aka.ms/vscodeJupyterKernelCrash'>here</a> for more info. \n",
      "\u001b[1;31mView Jupyter <a href='command:jupyter.viewOutput'>log</a> for further details."
     ]
    }
   ],
   "source": [
    "import torch\n",
    "print(torch.cuda.is_available())  # 输出 True 则表示 CUDA 可用\n",
    "print(torch.cuda.get_device_name(0))  # 输出您的 GPU 名称，比如 'NVIDIA RTX 4060'"
   ]
  },
  {
   "cell_type": "code",
   "execution_count": 31,
   "metadata": {},
   "outputs": [],
   "source": [
    "import math \n",
    "\n",
    "def bce_loss(y_true, y_pre):\n",
    "    t = 0.0000000000000000000000000000000000000000001\n",
    "    loss = - (y_true*math.log(y_pre+t) + (1 - y_true)*math.log(1-y_pre+t))\n",
    "    return loss"
   ]
  },
  {
   "cell_type": "code",
   "execution_count": 37,
   "metadata": {},
   "outputs": [
    {
     "data": {
      "text/plain": [
       "0.00012512920464901166"
      ]
     },
     "execution_count": 37,
     "metadata": {},
     "output_type": "execute_result"
    }
   ],
   "source": [
    "bce_loss(0.99999,0.99999)"
   ]
  },
  {
   "cell_type": "code",
   "execution_count": 43,
   "metadata": {},
   "outputs": [
    {
     "name": "stdout",
     "output_type": "stream",
     "text": [
      "tensor(100., grad_fn=<BinaryCrossEntropyBackward0>)\n"
     ]
    }
   ],
   "source": [
    "import torch\n",
    "import torch.nn.functional as F\n",
    "predictions = torch.tensor([0.25, 0.75], requires_grad=True)\n",
    "targets = torch.tensor([0.0, 1.0])\n",
    "loss = F.binary_cross_entropy(predictions, targets)\n",
    "print(loss)\n"
   ]
  },
  {
   "cell_type": "code",
   "execution_count": 12,
   "metadata": {},
   "outputs": [
    {
     "data": {
      "image/png": "[encoded data removed]",
      "text/plain": [
       "<Figure size 800x500 with 1 Axes>"
      ]
     },
     "metadata": {},
     "output_type": "display_data"
    }
   ],
   "source": [
    "import numpy as np\n",
    "import matplotlib.pyplot as plt\n",
    "\n",
    "# 定义函数 e^(-x)\n",
    "def exp_function(x):\n",
    "    return np.exp(-x)-1\n",
    "\n",
    "# 生成x值，范围从0到10，足够多的点以确保平滑的曲线\n",
    "x = np.linspace(-1, 1, 400)\n",
    "y = exp_function(x)\n",
    "\n",
    "# 创建图形\n",
    "plt.figure(figsize=(8, 5))\n",
    "plt.plot(x, y, label='y = e^(-x)')\n",
    "\n",
    "# 添加标题和标签\n",
    "plt.title(\"Plot of y = e^(-x)\")\n",
    "plt.xlabel(\"x\")\n",
    "plt.ylabel(\"y\")\n",
    "\n",
    "# 显示图例\n",
    "plt.legend()\n",
    "\n",
    "# 添加网格线，提高可读性\n",
    "plt.grid(True)\n",
    "\n",
    "# 显示图形\n",
    "plt.show()\n"
   ]
  },
  {
   "cell_type": "code",
   "execution_count": 15,
   "metadata": {},
   "outputs": [
    {
     "name": "stderr",
     "output_type": "stream",
     "text": [
      "C:\\Users\\hongchuanyang\\AppData\\Local\\Temp\\ipykernel_25712\\2684964839.py:6: RuntimeWarning: divide by zero encountered in log\n",
      "  return -np.log(x+1)\n"
     ]
    },
    {
     "data": {
      "image/png": "[encoded data removed]",
      "text/plain": [
       "<Figure size 800x500 with 1 Axes>"
      ]
     },
     "metadata": {},
     "output_type": "display_data"
    }
   ],
   "source": [
    "import numpy as np\n",
    "import matplotlib.pyplot as plt\n",
    "\n",
    "# 定义函数 e^(-x)\n",
    "def exp_function(x):\n",
    "    return -np.log(x+1)\n",
    "np.log\n",
    "\n",
    "# 生成x值，范围从0到10，足够多的点以确保平滑的曲线\n",
    "x = np.linspace(-1, 1, 400)\n",
    "y = exp_function(x)\n",
    "\n",
    "# 创建图形\n",
    "plt.figure(figsize=(8, 5))\n",
    "plt.plot(x, y, label='y = e^(-x)')\n",
    "\n",
    "# 添加标题和标签\n",
    "plt.title(\"Plot of y = e^(-x)\")\n",
    "plt.xlabel(\"x\")\n",
    "plt.ylabel(\"y\")\n",
    "\n",
    "# 显示图例\n",
    "plt.legend()\n",
    "\n",
    "# 添加网格线，提高可读性\n",
    "plt.grid(True)\n",
    "\n",
    "# 显示图形\n",
    "plt.show()\n"
   ]
  },
  {
   "cell_type": "code",
   "execution_count": 13,
   "metadata": {},
   "outputs": [
    {
     "data": {
      "text/plain": [
       "0.0"
      ]
     },
     "execution_count": 13,
     "metadata": {},
     "output_type": "execute_result"
    }
   ],
   "source": [
    "def custom_loss(score_pre, score_true):\n",
    "    x = score_pre - score_true\n",
    "    loss = np.maximum(0, -np.log(x + 1))\n",
    "    return loss"
   ]
  }
 ],
 "metadata": {
  "kernelspec": {
   "display_name": "py310",
   "language": "python",
   "name": "python3"
  },
  "language_info": {
   "codemirror_mode": {
    "name": "ipython",
    "version": 3
   },
   "file_extension": ".py",
   "mimetype": "text/x-python",
   "name": "python",
   "nbconvert_exporter": "python",
   "pygments_lexer": "ipython3",
   "version": "3.10.11"
  }
 },
 "nbformat": 4,
 "nbformat_minor": 2
}
